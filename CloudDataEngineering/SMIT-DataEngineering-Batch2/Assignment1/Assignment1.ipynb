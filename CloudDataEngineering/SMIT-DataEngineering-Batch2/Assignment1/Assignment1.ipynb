{
 "cells": [
  {
   "cell_type": "code",
   "execution_count": 32,
   "id": "aebae125-21b4-4880-9211-cfff5c5713f7",
   "metadata": {},
   "outputs": [
    {
     "name": "stdout",
     "output_type": "stream",
     "text": [
      "My Name is : Muhammad Imran Hashmi My Father Name is: Muhammad Ghufran Hashmi My Date of Birth is: 20 March 1984\n"
     ]
    }
   ],
   "source": [
    "## 1. Print Your Name with your Father Name and Date of Birth.\n",
    "Name = \"Muhammad Imran Hashmi\"\n",
    "FName = \"Muhammad Ghufran Hashmi\"\n",
    "DOB = \"20 March 1984\"\n",
    "print(\"My Name is :\",myName , \"My Father Name is:\", FName, \"My Date of Birth is:\", DOB)"
   ]
  },
  {
   "cell_type": "code",
   "execution_count": 41,
   "id": "5fbbc048-0320-4bd7-879f-e08114ad9efc",
   "metadata": {},
   "outputs": [
    {
     "name": "stdout",
     "output_type": "stream",
     "text": [
      "I started my Career as Network Internee in Sidat Hyder Morshed Asssociates Management Consultant\n"
     ]
    }
   ],
   "source": [
    "## 2. Write your small bio using variables and print it using print function\n",
    "BioGraphy = \"I started my Career as Network Internee in Sidat Hyder Morshed Asssociates Management Consultant\"\n",
    "print(BioGraphy)"
   ]
  },
  {
   "cell_type": "code",
   "execution_count": 80,
   "id": "7cee89b5-3e85-4c40-ad8e-a28bab334149",
   "metadata": {},
   "outputs": [
    {
     "name": "stdout",
     "output_type": "stream",
     "text": [
      "Sum of 2 Variables 59\n",
      "Difference of 2 Variables 9\n",
      "Multiplication of 2 Variables 850\n",
      "Division of 2 Variables 1.36\n",
      "Modulus of 2 Variables 9\n",
      "9\n",
      "3\n"
     ]
    }
   ],
   "source": [
    "## 3. Write a program in which use all the operators we can use in Python\n",
    "## ArithmaticOperators\n",
    "##Addition \n",
    "x = 34\n",
    "y = 25\n",
    "z = x + y \n",
    "print(\"Sum of 2 Variables\" ,z)\n",
    "##Subtraction\n",
    "z = x - y\n",
    "print(\"Difference of 2 Variables\" ,z)\n",
    "##Multiplication\n",
    "z = x * y\n",
    "print(\"Multiplication of 2 Variables\" , z)\n",
    "## Division\n",
    "z = x / y\n",
    "print(\"Division of 2 Variables\" , z)\n",
    "## Modulus\n",
    "z = x % y\n",
    "print(\"Modulus of 2 Variables\" , z)\n",
    "## Exponent\n",
    "a = 3\n",
    "b = 2\n",
    "z = a ** b\n",
    "print(z)\n",
    "## floor division\n",
    "a = 29\n",
    "b = 8\n",
    "z = a // b\n",
    "print(z)"
   ]
  },
  {
   "cell_type": "code",
   "execution_count": 88,
   "id": "90f4f87e-db21-4aae-8800-b37ee3239c21",
   "metadata": {},
   "outputs": [
    {
     "name": "stdout",
     "output_type": "stream",
     "text": [
      "My Total Marks 300\n",
      "My Percentage is 91.33333333333333\n"
     ]
    }
   ],
   "source": [
    "## 4. Completes the following steps of small task:\\n\",\n",
    "  ##      - Mention Marks of English , Islamiat and Maths out of 100 in 3 different variables\\n\",\n",
    "    ##    - Mention Variable of Total Marks and assign 300 to it\\n\",\n",
    "    ##    - Calculate Percentage\"\n",
    "\n",
    "TotalMarks = 300\n",
    "English = 81\n",
    "Islamiat = 95\n",
    "Math = 98\n",
    "TotalMarksObt = English + Islamiat + Math\n",
    "print(\"My Total Marks\", TotalMarks)\n",
    "Percentage = (TotalMarksObt / TotalMarks) * 100\n",
    "print(\"My Percentage is\", Percentage)\n"
   ]
  },
  {
   "cell_type": "code",
   "execution_count": 118,
   "id": "8bc13114-de7c-4db7-998b-c35f992317d0",
   "metadata": {},
   "outputs": [
    {
     "name": "stdout",
     "output_type": "stream",
     "text": [
      "Net Bonus is 750.0\n"
     ]
    }
   ],
   "source": [
    "# Part -2 Python Basics (Conditional Statements)\n",
    "# 1) A company decided to give bonus of 5% to employee if his/her year of service is more than 5 years.\"\n",
    "IsService = 6\n",
    "Salary = 15000\n",
    "IsBonus = 5\n",
    "\n",
    "if IsService >= 5:\n",
    "    print(\"Net Bonus is\", (Salary * IsBonus) / 100) \n",
    "else:\n",
    "    print(\"No, Bonus is applied\")"
   ]
  },
  {
   "cell_type": "code",
   "execution_count": 128,
   "id": "a1dd43cc-92b9-4b47-bc15-475516d86b27",
   "metadata": {},
   "outputs": [
    {
     "name": "stdin",
     "output_type": "stream",
     "text": [
      "Enter your age 18\n"
     ]
    },
    {
     "name": "stdout",
     "output_type": "stream",
     "text": [
      "You are eligible for voting\n"
     ]
    }
   ],
   "source": [
    "# 2) Write a program to check whether a person is eligible for voting or not. (accept age from user) if age is greater than 17 eligible otherwise not eligible\"\n",
    "age = input(\"Enter your age\")\n",
    "if int(age) > 17:\n",
    "    print(\"You are eligible for voting\")\n",
    "else:\n",
    "    print(\"You are not eligible for voting\")"
   ]
  },
  {
   "cell_type": "code",
   "execution_count": 158,
   "id": "6deef233-db17-4aeb-9487-efe2ffb96d87",
   "metadata": {},
   "outputs": [
    {
     "name": "stdin",
     "output_type": "stream",
     "text": [
      "Enter a number:  11\n"
     ]
    },
    {
     "name": "stdout",
     "output_type": "stream",
     "text": [
      "Input Number is odd \n"
     ]
    }
   ],
   "source": [
    "##3) Write a program to check whether a number entered by user is even or odd.\"\n",
    "num = int(input(\"Enter a number: \"))\n",
    "if (num % 2) == 0:\n",
    "    print(\"Input Number is even \")\n",
    "else:\n",
    "    print(\"Input Number is odd \")\n"
   ]
  },
  {
   "cell_type": "code",
   "execution_count": null,
   "id": "2ad47987-5922-4fe3-aee7-31a7d5350c9e",
   "metadata": {},
   "outputs": [],
   "source": []
  },
  {
   "cell_type": "code",
   "execution_count": null,
   "id": "e0f2b869-2ef4-4008-82ec-727ef1954a25",
   "metadata": {},
   "outputs": [],
   "source": []
  },
  {
   "cell_type": "code",
   "execution_count": null,
   "id": "b0a7ea05-6d5a-41af-97ad-bf58164f0c96",
   "metadata": {},
   "outputs": [],
   "source": []
  },
  {
   "cell_type": "code",
   "execution_count": null,
   "id": "540a64fe-52cb-45be-bf1e-ffcc6ce91f47",
   "metadata": {},
   "outputs": [],
   "source": []
  },
  {
   "cell_type": "code",
   "execution_count": null,
   "id": "4c9daf2b-246f-44de-8553-3fd6141ed938",
   "metadata": {},
   "outputs": [],
   "source": []
  }
 ],
 "metadata": {
  "kernelspec": {
   "display_name": "Python [conda env:base] *",
   "language": "python",
   "name": "conda-base-py"
  },
  "language_info": {
   "codemirror_mode": {
    "name": "ipython",
    "version": 3
   },
   "file_extension": ".py",
   "mimetype": "text/x-python",
   "name": "python",
   "nbconvert_exporter": "python",
   "pygments_lexer": "ipython3",
   "version": "3.12.7"
  }
 },
 "nbformat": 4,
 "nbformat_minor": 5
}
